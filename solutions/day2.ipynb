{
 "cells": [
  {
   "cell_type": "markdown",
   "metadata": {},
   "source": [
    "## --- Day 2: Rock Paper Scissors ---\n",
    "\n",
    "The Elves begin to set up camp on the beach. To decide whose tent gets to be closest to the snack storage, a giant Rock Paper Scissors tournament is already in progress.\n",
    "\n",
    "Rock Paper Scissors is a game between two players. Each game contains many rounds; in each round, the players each simultaneously choose one of Rock, Paper, or Scissors using a hand shape. Then, a winner for that round is selected: Rock defeats Scissors, Scissors defeats Paper, and Paper defeats Rock. If both players choose the same shape, the round instead ends in a draw.\n",
    "\n",
    "Appreciative of your help yesterday, one Elf gives you an encrypted strategy guide (your puzzle input) that they say will be sure to help you win. \"The first column is what your opponent is going to play: A for Rock, B for Paper, and C for Scissors. The second column--\" Suddenly, the Elf is called away to help with someone's tent.\n",
    "\n",
    "The second column, you reason, must be what you should play in response: X for Rock, Y for Paper, and Z for Scissors. Winning every time would be suspicious, so the responses must have been carefully chosen.\n",
    "\n",
    "The winner of the whole tournament is the player with the highest score. Your total score is the sum of your scores for each round. The score for a single round is the score for the shape you selected (1 for Rock, 2 for Paper, and 3 for Scissors) plus the score for the outcome of the round (0 if you lost, 3 if the round was a draw, and 6 if you won).\n",
    "\n",
    "Since you can't be sure if the Elf is trying to help you or trick you, you should calculate the score you would get if you were to follow the strategy guide.\n",
    "\n",
    "For example, suppose you were given the following strategy guide:\n",
    "\n",
    "A Y\n",
    "B X\n",
    "C Z\n",
    "\n",
    "This strategy guide predicts and recommends the following:\n",
    "\n",
    "    In the first round, your opponent will choose Rock (A), and you should choose Paper (Y). This ends in a win for you with a score of 8 (2 because you chose Paper + 6 because you won).\n",
    "    In the second round, your opponent will choose Paper (B), and you should choose Rock (X). This ends in a loss for you with a score of 1 (1 + 0).\n",
    "    The third round is a draw with both players choosing Scissors, giving you a score of 3 + 3 = 6.\n",
    "\n",
    "In this example, if you were to follow the strategy guide, you would get a total score of 15 (8 + 1 + 6).\n",
    "\n",
    "What would your total score be if everything goes exactly according to your strategy guide?\n"
   ]
  },
  {
   "cell_type": "code",
   "execution_count": 1,
   "metadata": {},
   "outputs": [
    {
     "name": "stdout",
     "output_type": "stream",
     "text": [
      "['B Z', 'C Z', 'B X', 'A Y', 'B X', 'B X', 'A X', 'B Z', 'C Z', 'B Y', 'A Z', 'C X', 'B X', 'C X', 'B Z', 'B Z', 'C Y', 'B Z', 'B Z', 'C Z', 'B Z', 'B Y', 'B X', 'B Y', 'C Z']\n"
     ]
    }
   ],
   "source": [
    "# Read input\n",
    "\n",
    "DAY=2\n",
    "\n",
    "input_file = f\"../inputs/day{DAY}.txt\"\n",
    "\n",
    "with open(input_file) as f:\n",
    "    lines = [line.rstrip() for line in f]\n",
    "\n",
    "print(lines[0:25])"
   ]
  },
  {
   "cell_type": "code",
   "execution_count": 18,
   "metadata": {},
   "outputs": [],
   "source": [
    "# define rock paper scissors move set\n",
    "rps_dict = {\n",
    "    'A': 1,\n",
    "    'B': 2,\n",
    "    'C': 3,\n",
    "    'X': 1,\n",
    "    'Y': 2,\n",
    "    'Z': 3\n",
    "}\n",
    "\n",
    "# get a score for a given move string\n",
    "def get_score(move: str):\n",
    "    ms = [rps_dict[m] for m in move.split()]\n",
    "    if ms[0] == ms[1]:\n",
    "        score = 3\n",
    "    elif ms[0] - ms[1] in [-1, 2]:\n",
    "        score = 6\n",
    "    else:\n",
    "        score = 0\n",
    "    total_score = ms[1] + score\n",
    "    return(total_score)\n"
   ]
  },
  {
   "cell_type": "code",
   "execution_count": 19,
   "metadata": {},
   "outputs": [
    {
     "name": "stdout",
     "output_type": "stream",
     "text": [
      "A X : 4\n",
      "A Y : 8\n",
      "A Z : 3\n",
      "B X : 1\n",
      "B Y : 5\n",
      "B Z : 9\n",
      "C X : 7\n",
      "C Y : 2\n",
      "C Z : 6\n"
     ]
    }
   ],
   "source": [
    "# test to see if it's working as expected\n",
    "from itertools import product\n",
    "\n",
    "l1, l2 = ['A','B','C'],['X','Y','Z']\n",
    "move_tups = list(product(l1, l2))\n",
    "move_strs = [' '.join(mt) for mt in move_tups]\n",
    "\n",
    "for move in move_strs:\n",
    "    print(str(move) + \" : \" + str(get_score(move)))"
   ]
  },
  {
   "cell_type": "code",
   "execution_count": 20,
   "metadata": {},
   "outputs": [
    {
     "data": {
      "text/plain": [
       "12458"
      ]
     },
     "execution_count": 20,
     "metadata": {},
     "output_type": "execute_result"
    }
   ],
   "source": [
    "sum([get_score(move) for move in lines])"
   ]
  },
  {
   "cell_type": "markdown",
   "metadata": {},
   "source": [
    "## --- Part Two ---\n",
    "\n",
    "The Elf finishes helping with the tent and sneaks back over to you. \"Anyway, the second column says how the round needs to end: X means you need to lose, Y means you need to end the round in a draw, and Z means you need to win. Good luck!\"\n",
    "\n",
    "The total score is still calculated in the same way, but now you need to figure out what shape to choose so the round ends as indicated. The example above now goes like this:\n",
    "\n",
    "    In the first round, your opponent will choose Rock (A), and you need the round to end in a draw (Y), so you also choose Rock. This gives you a score of 1 + 3 = 4.\n",
    "    In the second round, your opponent will choose Paper (B), and you choose Rock so you lose (X) with a score of 1 + 0 = 1.\n",
    "    In the third round, you will defeat your opponent's Scissors with Rock for a score of 1 + 6 = 7.\n",
    "\n",
    "Now that you're correctly decrypting the ultra top secret strategy guide, you would get a total score of 12.\n",
    "\n",
    "Following the Elf's instructions for the second column, what would your total score be if everything goes exactly according to your strategy guide?\n"
   ]
  },
  {
   "cell_type": "code",
   "execution_count": 30,
   "metadata": {},
   "outputs": [],
   "source": [
    "def get_score2(move: str):\n",
    "    ms = [rps_dict[m] for m in move.split()]\n",
    "    if ms[1] == 1: #lose\n",
    "        total_score = (ms[0] - 1) % 3\n",
    "    elif ms[1] == 2: #draw\n",
    "        total_score = (ms[0]) + 3\n",
    "    else: # win\n",
    "        total_score = (ms[0] + 2) % 3 + 6\n",
    "    return(total_score)"
   ]
  },
  {
   "cell_type": "code",
   "execution_count": 29,
   "metadata": {},
   "outputs": [
    {
     "name": "stdout",
     "output_type": "stream",
     "text": [
      "A X : 2\n",
      "A Y : 4\n",
      "A Z : 6\n",
      "B X : 0\n",
      "B Y : 5\n",
      "B Z : 7\n",
      "C X : 1\n",
      "C Y : 6\n",
      "C Z : 8\n"
     ]
    }
   ],
   "source": [
    "for move in move_strs:\n",
    "    print(str(move) + \" : \" + str(get_score2(move)))"
   ]
  }
 ],
 "metadata": {
  "kernelspec": {
   "display_name": "Python 3.10.8 ('aoc2022')",
   "language": "python",
   "name": "python3"
  },
  "language_info": {
   "codemirror_mode": {
    "name": "ipython",
    "version": 3
   },
   "file_extension": ".py",
   "mimetype": "text/x-python",
   "name": "python",
   "nbconvert_exporter": "python",
   "pygments_lexer": "ipython3",
   "version": "3.10.8"
  },
  "orig_nbformat": 4,
  "vscode": {
   "interpreter": {
    "hash": "f8d9dd53a7a4321164ff46492c9f35ca09a909ed2f0f5915294e525bed8beb79"
   }
  }
 },
 "nbformat": 4,
 "nbformat_minor": 2
}
