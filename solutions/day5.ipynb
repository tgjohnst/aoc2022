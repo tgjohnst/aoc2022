{
 "cells": [
  {
   "cell_type": "markdown",
   "metadata": {},
   "source": [
    "## --- Day 5: Supply Stacks ---\n",
    "\n",
    "The expedition can depart as soon as the final supplies have been unloaded from the ships. Supplies are stored in stacks of marked crates, but because the needed supplies are buried under many other crates, the crates need to be rearranged.\n",
    "\n",
    "The ship has a giant cargo crane capable of moving crates between stacks. To ensure none of the crates get crushed or fall over, the crane operator will rearrange them in a series of carefully-planned steps. After the crates are rearranged, the desired crates will be at the top of each stack.\n",
    "\n",
    "The Elves don't want to interrupt the crane operator during this delicate procedure, but they forgot to ask her which crate will end up where, and they want to be ready to unload them as soon as possible so they can embark.\n",
    "\n",
    "They do, however, have a drawing of the starting stacks of crates and the rearrangement procedure (your puzzle input). For example:\n",
    "\n",
    "    [D]    \n",
    "[N] [C]    \n",
    "[Z] [M] [P]\n",
    " 1   2   3 \n",
    "\n",
    "move 1 from 2 to 1\n",
    "move 3 from 1 to 3\n",
    "move 2 from 2 to 1\n",
    "move 1 from 1 to 2\n",
    "\n",
    "In this example, there are three stacks of crates. Stack 1 contains two crates: crate Z is on the bottom, and crate N is on top. Stack 2 contains three crates; from bottom to top, they are crates M, C, and D. Finally, stack 3 contains a single crate, P.\n",
    "\n",
    "Then, the rearrangement procedure is given. In each step of the procedure, a quantity of crates is moved from one stack to a different stack. In the first step of the above rearrangement procedure, one crate is moved from stack 2 to stack 1, resulting in this configuration:\n",
    "\n",
    "[D]        \n",
    "[N] [C]    \n",
    "[Z] [M] [P]\n",
    " 1   2   3 \n",
    "\n",
    "In the second step, three crates are moved from stack 1 to stack 3. Crates are moved one at a time, so the first crate to be moved (D) ends up below the second and third crates:\n",
    "\n",
    "        [Z]\n",
    "        [N]\n",
    "    [C] [D]\n",
    "    [M] [P]\n",
    " 1   2   3\n",
    "\n",
    "Then, both crates are moved from stack 2 to stack 1. Again, because crates are moved one at a time, crate C ends up below crate M:\n",
    "\n",
    "        [Z]\n",
    "        [N]\n",
    "[M]     [D]\n",
    "[C]     [P]\n",
    " 1   2   3\n",
    "\n",
    "Finally, one crate is moved from stack 1 to stack 2:\n",
    "\n",
    "        [Z]\n",
    "        [N]\n",
    "        [D]\n",
    "[C] [M] [P]\n",
    " 1   2   3\n",
    "\n",
    "The Elves just need to know which crate will end up on top of each stack; in this example, the top crates are C in stack 1, M in stack 2, and Z in stack 3, so you should combine these together and give the Elves the message CMZ.\n",
    "\n",
    "After the rearrangement procedure completes, what crate ends up on top of each stack?\n"
   ]
  },
  {
   "cell_type": "code",
   "execution_count": null,
   "metadata": {},
   "outputs": [],
   "source": [
    "# Read input\n",
    "\n",
    "DAY=5\n",
    "\n",
    "input_file = f\"../inputs/day{DAY}.txt\"\n",
    "\n",
    "with open(input_file) as f:\n",
    "    lines = [line.rstrip() for line in f]\n",
    "\n",
    "print(lines[0:25])"
   ]
  }
 ],
 "metadata": {
  "kernelspec": {
   "display_name": "Python 3.10.8 ('aoc2022')",
   "language": "python",
   "name": "python3"
  },
  "language_info": {
   "name": "python",
   "version": "3.10.8"
  },
  "orig_nbformat": 4,
  "vscode": {
   "interpreter": {
    "hash": "f8d9dd53a7a4321164ff46492c9f35ca09a909ed2f0f5915294e525bed8beb79"
   }
  }
 },
 "nbformat": 4,
 "nbformat_minor": 2
}
