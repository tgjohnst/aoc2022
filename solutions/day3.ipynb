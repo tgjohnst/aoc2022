{
 "cells": [
  {
   "cell_type": "markdown",
   "metadata": {},
   "source": [
    "## --- Day 3: Rucksack Reorganization ---\n",
    "\n",
    "One Elf has the important job of loading all of the rucksacks with supplies for the jungle journey. Unfortunately, that Elf didn't quite follow the packing instructions, and so a few items now need to be rearranged.\n",
    "\n",
    "Each rucksack has two large compartments. All items of a given type are meant to go into exactly one of the two compartments. The Elf that did the packing failed to follow this rule for exactly one item type per rucksack.\n",
    "\n",
    "The Elves have made a list of all of the items currently in each rucksack (your puzzle input), but they need your help finding the errors. Every item type is identified by a single lowercase or uppercase letter (that is, a and A refer to different types of items).\n",
    "\n",
    "The list of items for each rucksack is given as characters all on a single line. A given rucksack always has the same number of items in each of its two compartments, so the first half of the characters represent items in the first compartment, while the second half of the characters represent items in the second compartment.\n",
    "\n",
    "For example, suppose you have the following list of contents from six rucksacks:\n",
    "\n",
    "vJrwpWtwJgWrhcsFMMfFFhFp\n",
    "jqHRNqRjqzjGDLGLrsFMfFZSrLrFZsSL\n",
    "PmmdzqPrVvPwwTWBwg\n",
    "wMqvLMZHhHMvwLHjbvcjnnSBnvTQFn\n",
    "ttgJtRGJQctTZtZT\n",
    "CrZsJsPPZsGzwwsLwLmpwMDw\n",
    "\n",
    "    The first rucksack contains the items vJrwpWtwJgWrhcsFMMfFFhFp, which means its first compartment contains the items vJrwpWtwJgWr, while the second compartment contains the items hcsFMMfFFhFp. The only item type that appears in both compartments is lowercase p.\n",
    "    The second rucksack's compartments contain jqHRNqRjqzjGDLGL and rsFMfFZSrLrFZsSL. The only item type that appears in both compartments is uppercase L.\n",
    "    The third rucksack's compartments contain PmmdzqPrV and vPwwTWBwg; the only common item type is uppercase P.\n",
    "    The fourth rucksack's compartments only share item type v.\n",
    "    The fifth rucksack's compartments only share item type t.\n",
    "    The sixth rucksack's compartments only share item type s.\n",
    "\n",
    "To help prioritize item rearrangement, every item type can be converted to a priority:\n",
    "\n",
    "    Lowercase item types a through z have priorities 1 through 26.\n",
    "    Uppercase item types A through Z have priorities 27 through 52.\n",
    "\n",
    "In the above example, the priority of the item type that appears in both compartments of each rucksack is 16 (p), 38 (L), 42 (P), 22 (v), 20 (t), and 19 (s); the sum of these is 157.\n",
    "\n",
    "Find the item type that appears in both compartments of each rucksack. What is the sum of the priorities of those item types?\n"
   ]
  },
  {
   "cell_type": "code",
   "execution_count": 1,
   "metadata": {},
   "outputs": [
    {
     "name": "stdout",
     "output_type": "stream",
     "text": [
      "['mjpsHcssDzLTzMsz', 'tFhbtClRVtbhRCGBFntNTrLhqrwqWMDMTWTqMq', 'LltbngLGRSBgSgGRCJdSdQHvdfmQccmjSQ', 'lBslsZDDWdGdGpSMts', 'grQhDvqLQHDNGJJtbRMQQJ', 'HChCTnnLCgCrTZPPFzzVPcVD', 'ShrzjhNGrNqrhWnHHfVHbhnHbbhH', 'RBsvcBcDCdsRTsvgCgcPFRQpVQGQJPVFbnJfbJ', 'DvsTsdlCBsGLrjzmlqqz', 'WJJqZTgCnBLGCZBJCJnTLggTDDSDDMNdDSdbdSSsWDFfMsFf', 'PVjqpVHmPpvmcjhrRprFmQQffbfNbQMMsSMQNQ', 'cwcpRvrVlVgwtBwZqBzZ', 'qfJJmpqpmhsggvvpVPZCrhdFLFzZFDdLLh', 'CtCTBctGcGLSzZddGZSW', 'RlNjBCnjttBHHMMcQHCsRfsbfwgggmmJvmgfpm', 'ZmcgBBZhZMsnqnCPjpHPjLHp', 'dGbNwNtlTMTzGfNvTvdwNGVLPpQHPjLQPCpCjPqjLbpLPR', 'dvDTdfvNBhDZMBDZ', 'cvvRvbqcllbBVlvVVbVVlbVDjRjDjdMsHPZPGdDPGPHrDP', 'FwtpfwJtWwNtTTNnwFCtjDJsQdQPPPPMrjrPJHjH', 'CwFpnppgntShgbsscbms', 'cWMFMQpFNcvNDdBDgdsT', 'MPrrfrCHBBsDZCBJ', 'LmLjMLjjLWpVcRVR', 'ZrRZqlZMqTWrMDqwvnvVtnsvddvVnlVf']\n"
     ]
    }
   ],
   "source": [
    "# Read input\n",
    "\n",
    "DAY=3\n",
    "\n",
    "input_file = f\"../inputs/day{DAY}.txt\"\n",
    "\n",
    "with open(input_file) as f:\n",
    "    lines = [line.rstrip() for line in f]\n",
    "\n",
    "print(lines[0:25])"
   ]
  },
  {
   "cell_type": "code",
   "execution_count": 2,
   "metadata": {},
   "outputs": [
    {
     "name": "stdout",
     "output_type": "stream",
     "text": [
      "[16, 38, 34, 18, 22, 24, 28, 38, 20, 48, 38, 20, 34, 20, 38, 24, 46, 16, 46, 40, 20, 20, 16, 16, 32]\n"
     ]
    }
   ],
   "source": [
    "#are they all even numbers of items?\n",
    "print([len(s) for s in lines[0:25]])"
   ]
  },
  {
   "cell_type": "code",
   "execution_count": 9,
   "metadata": {},
   "outputs": [
    {
     "name": "stdout",
     "output_type": "stream",
     "text": [
      "[65, 90, 97, 122]\n"
     ]
    }
   ],
   "source": [
    "test_letters = ['A','Z','a','z']\n",
    "print([ord(l) for l in test_letters])"
   ]
  },
  {
   "cell_type": "code",
   "execution_count": 10,
   "metadata": {},
   "outputs": [
    {
     "name": "stdout",
     "output_type": "stream",
     "text": [
      "[27, 52, 1, 26]\n"
     ]
    }
   ],
   "source": [
    "# returns the priority of a given letter\n",
    "def get_priority(letter: str):\n",
    "    lord = ord(letter)\n",
    "    if lord < 91: #capitals\n",
    "        return(lord - 64 + 26)\n",
    "    else:\n",
    "        return(lord-96)\n",
    "\n",
    "print([get_priority(l) for l in test_letters])"
   ]
  },
  {
   "cell_type": "code",
   "execution_count": 25,
   "metadata": {},
   "outputs": [],
   "source": [
    "# find common elements in a rucksack between the two compartments\n",
    "def find_common(rucksack: str):\n",
    "    common_set = set([*rucksack[0:int(len(rucksack)/2)]]) & set([*rucksack[int(len(rucksack)/2):int(len(rucksack))]])\n",
    "    return(list(common_set))\n",
    "\n",
    "test_sacks = [\"vJrwpWtwJgWrhcsFMMfFFhFp\", \"jqHRNqRjqzjGDLGLrsFMfFZSrLrFZsSL\", \"PmmdzqPrVvPwwTWBwg\", \"wMqvLMZHhHMvwLHjbvcjnnSBnvTQFn\", \"ttgJtRGJQctTZtZT\", \"CrZsJsPPZsGzwwsLwLmpwMDw\"]\n",
    "\n",
    "assert([find_common(ts)[0] for ts in test_sacks] == [\"p\",\"L\",\"P\",\"v\",\"t\",\"s\"])"
   ]
  },
  {
   "cell_type": "code",
   "execution_count": 27,
   "metadata": {},
   "outputs": [
    {
     "data": {
      "text/plain": [
       "8123"
      ]
     },
     "execution_count": 27,
     "metadata": {},
     "output_type": "execute_result"
    }
   ],
   "source": [
    "# now apply these to the actual input to get the answer\n",
    "sum([get_priority(find_common(ruck)[0]) for ruck in lines])\n"
   ]
  },
  {
   "cell_type": "markdown",
   "metadata": {},
   "source": [
    "## --- Part Two ---\n",
    "\n",
    "As you finish identifying the misplaced items, the Elves come to you with another issue.\n",
    "\n",
    "For safety, the Elves are divided into groups of three. Every Elf carries a badge that identifies their group. For efficiency, within each group of three Elves, the badge is the only item type carried by all three Elves. That is, if a group's badge is item type B, then all three Elves will have item type B somewhere in their rucksack, and at most two of the Elves will be carrying any other item type.\n",
    "\n",
    "The problem is that someone forgot to put this year's updated authenticity sticker on the badges. All of the badges need to be pulled out of the rucksacks so the new authenticity stickers can be attached.\n",
    "\n",
    "Additionally, nobody wrote down which item type corresponds to each group's badges. The only way to tell which item type is the right one is by finding the one item type that is common between all three Elves in each group.\n",
    "\n",
    "Every set of three lines in your list corresponds to a single group, but each group can have a different badge item type. So, in the above example, the first group's rucksacks are the first three lines:\n",
    "\n",
    "vJrwpWtwJgWrhcsFMMfFFhFp\n",
    "jqHRNqRjqzjGDLGLrsFMfFZSrLrFZsSL\n",
    "PmmdzqPrVvPwwTWBwg\n",
    "\n",
    "And the second group's rucksacks are the next three lines:\n",
    "\n",
    "wMqvLMZHhHMvwLHjbvcjnnSBnvTQFn\n",
    "ttgJtRGJQctTZtZT\n",
    "CrZsJsPPZsGzwwsLwLmpwMDw\n",
    "\n",
    "In the first group, the only item type that appears in all three rucksacks is lowercase r; this must be their badges. In the second group, their badge item type must be Z.\n",
    "\n",
    "Priorities for these items must still be found to organize the sticker attachment efforts: here, they are 18 (r) for the first group and 52 (Z) for the second group. The sum of these is 70.\n",
    "\n",
    "Find the item type that corresponds to the badges of each three-Elf group. What is the sum of the priorities of those item types?\n"
   ]
  },
  {
   "cell_type": "code",
   "execution_count": 28,
   "metadata": {},
   "outputs": [],
   "source": [
    "def chunks(list_, n):\n",
    "    \"\"\"Yield successive n-sized chunks from list_.\"\"\"\n",
    "    for i in range(0, len(list_), n):\n",
    "        yield list_[i:i + n]"
   ]
  },
  {
   "cell_type": "code",
   "execution_count": 39,
   "metadata": {},
   "outputs": [],
   "source": [
    "def find_badge(elves):\n",
    "    common = set([*elves[0]])\n",
    "    for elf in elves[1:]:\n",
    "        common = common & set([*elf])\n",
    "    return list(common)[0]\n",
    "\n",
    "assert(find_badge(test_sacks[0:3]) == 'r')\n",
    "assert(find_badge(test_sacks[3:6]) == 'Z')"
   ]
  },
  {
   "cell_type": "code",
   "execution_count": 41,
   "metadata": {},
   "outputs": [
    {
     "data": {
      "text/plain": [
       "2620"
      ]
     },
     "execution_count": 41,
     "metadata": {},
     "output_type": "execute_result"
    }
   ],
   "source": [
    "# solve on the input\n",
    "sum([get_priority(find_badge(chunk)) for chunk in chunks(lines, 3)])"
   ]
  }
 ],
 "metadata": {
  "kernelspec": {
   "display_name": "Python 3.10.8 ('aoc2022')",
   "language": "python",
   "name": "python3"
  },
  "language_info": {
   "codemirror_mode": {
    "name": "ipython",
    "version": 3
   },
   "file_extension": ".py",
   "mimetype": "text/x-python",
   "name": "python",
   "nbconvert_exporter": "python",
   "pygments_lexer": "ipython3",
   "version": "3.10.8"
  },
  "orig_nbformat": 4,
  "vscode": {
   "interpreter": {
    "hash": "f8d9dd53a7a4321164ff46492c9f35ca09a909ed2f0f5915294e525bed8beb79"
   }
  }
 },
 "nbformat": 4,
 "nbformat_minor": 2
}
